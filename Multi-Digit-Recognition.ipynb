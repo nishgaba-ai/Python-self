{
 "cells": [
  {
   "cell_type": "markdown",
   "metadata": {},
   "source": [
    "# Live Multi-Digit-Recognition\n",
    "#### Created by 'Nishchal Gaba' (nishgaba9@gmail.com)(October 2017)"
   ]
  },
  {
   "cell_type": "markdown",
   "metadata": {
    "collapsed": true
   },
   "source": [
    "#### This script is created being inspired by Google's \"Deep Learning\" course on Udacity. The task is to create a \"Live Camera App\" for android which can recognize multiple digits from the image\n",
    "#### Street View House Numbers (SVHN) public dataset is used for analysis\n",
    "### Tensorflow is used for the implementation of the neural networks used for training with Python3"
   ]
  },
  {
   "cell_type": "markdown",
   "metadata": {},
   "source": [
    "### References\n",
    "#### 1> Goodfellow, I. J., Bulatov, Y., Ibarz, J., Arnoud, S., & Shet, V. (2013). Multi-digit number recognition from street view imagery using deep convolutional neural networks. arXiv preprint arXiv:1312.6082.\n",
    "\n",
    "#### 2> Lee, C. Y., Gallagher, P. W., & Tu, Z. (2016, May). Generalizing pooling functions in convolutional neural networks: Mixed, gated, and tree. In Artificial Intelligence and Statistics (pp. 464-472).\n",
    "   ##### -  This is the current state of art at the time of implementation of this notebook (rodrigob.github.io)\n",
    "   ##### - We will be using 'Mixed' pooling for this script\n",
    " \n",
    "#### 3> Lee, C. Y., Xie, S., Gallagher, P., Zhang, Z., & Tu, Z. (2015, February). Deeply-supervised nets. In Artificial Intelligence and Statistics (pp. 562-570).\n",
    "\n",
    "#### 4> Goodfellow, I. J., Warde-Farley, D., Mirza, M., Courville, A., & Bengio, Y. (2013). Maxout networks. arXiv preprint arXiv:1302.4389.\n",
    "\n",
    "#### 5> Lin, M., Chen, Q., & Yan, S. (2013). Network in network. arXiv preprint arXiv:1312.4400."
   ]
  },
  {
   "cell_type": "code",
   "execution_count": 1,
   "metadata": {
    "collapsed": true
   },
   "outputs": [],
   "source": [
    "# Import files\n",
    "import os\n",
    "import sys\n",
    "import numpy as np\n",
    "import matplotlib as plt\n",
    "import tensorflow as tf\n",
    "import time\n",
    "import random\n",
    "import math\n",
    "import pandas as pd\n",
    "import sklearn\n",
    "from scipy import misc\n",
    "import glob\n",
    "import pickle\n",
    "%matplotlib inline\n",
    "plt.pyplot.style.use('ggplot')"
   ]
  },
  {
   "cell_type": "code",
   "execution_count": null,
   "metadata": {
    "collapsed": true
   },
   "outputs": [],
   "source": []
  },
  {
   "cell_type": "code",
   "execution_count": 81,
   "metadata": {
    "collapsed": true
   },
   "outputs": [],
   "source": [
    "# Importing the filenames for images so that they can be inserted as matrices\n",
    "file_paths = glob.glob('./train/*.png')"
   ]
  },
  {
   "cell_type": "code",
   "execution_count": 99,
   "metadata": {
    "collapsed": true
   },
   "outputs": [],
   "source": [
    "# Reading the images in as numpy-array\n",
    "#inputs = [misc.imread(x) for x in file_paths]\n",
    "inputs = [misc.imread(x) for x in file_paths]\n",
    "\n",
    "# NOTE: Currently the inputs is a list with input images as matrices\n",
    "# But the dimensions of input images are different, hence we need to pre-process it"
   ]
  },
  {
   "cell_type": "code",
   "execution_count": 104,
   "metadata": {},
   "outputs": [
    {
     "name": "stdout",
     "output_type": "stream",
     "text": [
      "33402\n",
      "(88, 189, 3)\n",
      "(63, 152, 3)\n"
     ]
    }
   ],
   "source": [
    "# Number of inputs\n",
    "print(len(inputs))\n",
    "\n",
    "# NOTE: The images may not be in a particular order, unless file names are sorted\n",
    "# Dimensions of 1st image, as index starts from 0\n",
    "print(inputs[0].shape)\n",
    "\n",
    "# Dimensions of 2nd image\n",
    "print(inputs[1].shape)"
   ]
  },
  {
   "cell_type": "code",
   "execution_count": 106,
   "metadata": {
    "collapsed": true
   },
   "outputs": [],
   "source": [
    "# Saving the variables to a file to be restored later\n",
    "f = open('data.pckl','wb')\n",
    "pickle.dump(inputs, f)\n",
    "f.close()"
   ]
  },
  {
   "cell_type": "code",
   "execution_count": 2,
   "metadata": {
    "collapsed": true
   },
   "outputs": [],
   "source": [
    "# Loading Data to be reused\n",
    "f = open('data.pckl','rb')\n",
    "inputs = pickle.load(f)\n",
    "f.close()"
   ]
  },
  {
   "cell_type": "code",
   "execution_count": 3,
   "metadata": {},
   "outputs": [
    {
     "data": {
      "text/plain": [
       "33402"
      ]
     },
     "execution_count": 3,
     "metadata": {},
     "output_type": "execute_result"
    }
   ],
   "source": [
    "len(inputs)"
   ]
  },
  {
   "cell_type": "code",
   "execution_count": null,
   "metadata": {
    "collapsed": true
   },
   "outputs": [],
   "source": [
    "# Creating first convolution layer\n",
    "with tf.name_scope('Conv-1'):\n",
    "    \n",
    "# Creating second convolution layer\n",
    "with tf.name_scope('Conv-2'):\n",
    "\n",
    "# Creating first mixed pooling layer\n",
    "with tf.name_scope('Mixed-1'):\n",
    "    \n",
    "# Creating third convolution layer\n",
    "with tf.name_scope('Conv-3'):\n",
    "    \n",
    "# Creating fourth convolution layer\n",
    "with tf.name_scope('Conv-4'):\n",
    "    \n",
    "# Creating second mixed pooling layer\n",
    "with tf.name_scope('Mixed-2'):\n",
    "    \n",
    "# Creating fifth convolution layer\n",
    "with tf.name_scope('Conv-5'):\n",
    "    \n",
    "# Creating sixth convolution layer\n",
    "with tf.name_scope('Conv-6'):\n",
    "    \n",
    "# Creating third mixed pooling layer\n",
    "with tf.name_scope('Mixed-3'):\n",
    "    \n"
   ]
  },
  {
   "cell_type": "markdown",
   "metadata": {
    "collapsed": true
   },
   "source": [
    "# NOTE:\n",
    "## The script is currently under work, in the next commits, the structure will be finalized and running samples implemented"
   ]
  },
  {
   "cell_type": "code",
   "execution_count": 71,
   "metadata": {
    "collapsed": true
   },
   "outputs": [],
   "source": []
  },
  {
   "cell_type": "code",
   "execution_count": 5,
   "metadata": {
    "collapsed": true
   },
   "outputs": [],
   "source": [
    "# NOTE:\n",
    "# Phase 2 of the project will have implementation for Android App for the above created application"
   ]
  },
  {
   "cell_type": "code",
   "execution_count": null,
   "metadata": {
    "collapsed": true
   },
   "outputs": [],
   "source": []
  }
 ],
 "metadata": {
  "kernelspec": {
   "display_name": "Python 3",
   "language": "python",
   "name": "python3"
  },
  "language_info": {
   "codemirror_mode": {
    "name": "ipython",
    "version": 3
   },
   "file_extension": ".py",
   "mimetype": "text/x-python",
   "name": "python",
   "nbconvert_exporter": "python",
   "pygments_lexer": "ipython3",
   "version": "3.6.1"
  }
 },
 "nbformat": 4,
 "nbformat_minor": 2
}
